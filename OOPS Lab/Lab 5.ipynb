{
 "cells": [
  {
   "cell_type": "raw",
   "id": "98c04638",
   "metadata": {},
   "source": [
    "Name : Akash Kumar Singh\n",
    "Registraion No: 219310279\n",
    "Batch 1\n",
    "Program 1:\n",
    "            *\n",
    "           ***\n",
    "          *****\n",
    "         *******\n",
    "        *********"
   ]
  },
  {
   "cell_type": "code",
   "execution_count": 24,
   "id": "a2f31b8e",
   "metadata": {},
   "outputs": [
    {
     "name": "stdout",
     "output_type": "stream",
     "text": [
      "Enter number of rows:8\n",
      "\t\t\t        \n",
      "\t\t\t       *\n",
      "\t\t\t      ***\n",
      "\t\t\t     *****\n",
      "\t\t\t    *******\n",
      "\t\t\t   *********\n",
      "\t\t\t  ***********\n",
      "\t\t\t *************\n"
     ]
    }
   ],
   "source": [
    "n = int(input(\"Enter number of rows:\"))\n",
    "for i in range(0,n):\n",
    "    print(\"\\t\\t\\t\",end='')\n",
    "    for j in range(n,i,-1):\n",
    "        print(\" \",end='')\n",
    "    for j in range(i):\n",
    "        print(\"*\",end='')\n",
    "    for j in range(i-1):\n",
    "        print(\"*\",end='')\n",
    "    print()"
   ]
  },
  {
   "cell_type": "raw",
   "id": "84de32d0",
   "metadata": {},
   "source": [
    "Name : Akash Kumar Singh\n",
    "Registraion No: 219310279\n",
    "Batch 1\n",
    "Program 2:\n",
    "            1\n",
    "            2 3\n",
    "            4 5 6 \n",
    "            7 8 9 10"
   ]
  },
  {
   "cell_type": "code",
   "execution_count": 22,
   "id": "fa61a3a6",
   "metadata": {},
   "outputs": [
    {
     "name": "stdout",
     "output_type": "stream",
     "text": [
      "Enter number of rows:5\n",
      "\t\t\t1\t\n",
      "\t\t\t2\t3\t\n",
      "\t\t\t4\t5\t6\t\n",
      "\t\t\t7\t8\t9\t10\t\n",
      "\t\t\t11\t12\t13\t14\t15\t\n"
     ]
    }
   ],
   "source": [
    "n = int(input(\"Enter number of rows:\"))\n",
    "temp = 1\n",
    "for i in range(n):\n",
    "    print(\"\\t\\t\\t\",end='')\n",
    "    for j in range(i+1):\n",
    "        print(\"%d\\t\"%temp,end='')\n",
    "        temp+=1\n",
    "    print()"
   ]
  },
  {
   "cell_type": "raw",
   "id": "eaaf5739",
   "metadata": {},
   "source": [
    "Name : Akash Kumar Singh\n",
    "Registraion No: 219310279\n",
    "Batch 1\n",
    "Program 3:\n",
    "            * * * * *\n",
    "            *       *\n",
    "            * * * * *"
   ]
  },
  {
   "cell_type": "code",
   "execution_count": 32,
   "id": "da206a02",
   "metadata": {},
   "outputs": [
    {
     "name": "stdout",
     "output_type": "stream",
     "text": [
      "Enter number of rows:5\n",
      "\t\t\t* * * * * \n",
      "\t\t\t*       * \n",
      "\t\t\t*       * \n",
      "\t\t\t*       * \n",
      "\t\t\t* * * * * \n"
     ]
    }
   ],
   "source": [
    "n = int(input(\"Enter number of rows:\"))\n",
    "for i in range(n):\n",
    "    print(\"\\t\\t\\t\",end='')\n",
    "    for j in range(n):\n",
    "        if (i==0 or j==0 or j==n-1 or i==n-1):\n",
    "            print(\"*\",end=' ')\n",
    "        elif i!=0 and i!=n-1:\n",
    "            print(\"  \",end='')\n",
    "    print()"
   ]
  },
  {
   "cell_type": "code",
   "execution_count": null,
   "id": "a6c32a72",
   "metadata": {},
   "outputs": [],
   "source": []
  }
 ],
 "metadata": {
  "kernelspec": {
   "display_name": "Python 3 (ipykernel)",
   "language": "python",
   "name": "python3"
  },
  "language_info": {
   "codemirror_mode": {
    "name": "ipython",
    "version": 3
   },
   "file_extension": ".py",
   "mimetype": "text/x-python",
   "name": "python",
   "nbconvert_exporter": "python",
   "pygments_lexer": "ipython3",
   "version": "3.10.6"
  }
 },
 "nbformat": 4,
 "nbformat_minor": 5
}
