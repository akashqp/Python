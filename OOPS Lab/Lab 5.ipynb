{
 "cells": [
  {
   "cell_type": "raw",
   "id": "98c04638",
   "metadata": {},
   "source": [
    "Name : Akash Kumar Singh\n",
    "Registraion No: 219310279\n",
    "Batch 1\n",
    "Program 1:\n",
    "            *\n",
    "           ***\n",
    "          *****\n",
    "         *******\n",
    "        *********"
   ]
  },
  {
   "cell_type": "code",
   "execution_count": 39,
   "id": "a2f31b8e",
   "metadata": {},
   "outputs": [
    {
     "name": "stdout",
     "output_type": "stream",
     "text": [
      "Enter number of rows:5\n",
      "\t\t\t     \n",
      "\t\t\t    *\n",
      "\t\t\t   ***\n",
      "\t\t\t  *****\n",
      "\t\t\t *******\n",
      "\t\t\t*********\n"
     ]
    }
   ],
   "source": [
    "n = int(input(\"Enter number of rows:\"))\n",
    "for i in range(0,n+1):\n",
    "    print(\"\\t\\t\\t\",end='')\n",
    "    for j in range(n,i,-1):\n",
    "        print(\" \",end='')\n",
    "    for j in range(i):\n",
    "        print(\"*\",end='')\n",
    "    for j in range(i-1):\n",
    "        print(\"*\",end='')\n",
    "    print()"
   ]
  },
  {
   "cell_type": "raw",
   "id": "84de32d0",
   "metadata": {},
   "source": [
    "Name : Akash Kumar Singh\n",
    "Registraion No: 219310279\n",
    "Batch 1\n",
    "Program 2:\n",
    "            1\n",
    "            2 3\n",
    "            4 5 6 \n",
    "            7 8 9 10"
   ]
  },
  {
   "cell_type": "code",
   "execution_count": 40,
   "id": "fa61a3a6",
   "metadata": {},
   "outputs": [
    {
     "name": "stdout",
     "output_type": "stream",
     "text": [
      "Enter number of rows:5\n",
      "\t\t\t1\t\n",
      "\t\t\t2\t3\t\n",
      "\t\t\t4\t5\t6\t\n",
      "\t\t\t7\t8\t9\t10\t\n",
      "\t\t\t11\t12\t13\t14\t15\t\n"
     ]
    }
   ],
   "source": [
    "n = int(input(\"Enter number of rows:\"))\n",
    "temp = 1\n",
    "for i in range(n):\n",
    "    print(\"\\t\\t\\t\",end='')\n",
    "    for j in range(i+1):\n",
    "        print(\"%d\\t\"%temp,end='')\n",
    "        temp+=1\n",
    "    print()"
   ]
  },
  {
   "cell_type": "raw",
   "id": "eaaf5739",
   "metadata": {},
   "source": [
    "Name : Akash Kumar Singh\n",
    "Registraion No: 219310279\n",
    "Batch 1\n",
    "Program 3:\n",
    "            * * * * *\n",
    "            *       *\n",
    "            * * * * *"
   ]
  },
  {
   "cell_type": "code",
   "execution_count": 44,
   "id": "da206a02",
   "metadata": {},
   "outputs": [
    {
     "name": "stdout",
     "output_type": "stream",
     "text": [
      "Enter number of rows:8\n",
      "\t\t\t* * * * * * * * \n",
      "\t\t\t*             * \n",
      "\t\t\t*             * \n",
      "\t\t\t*             * \n",
      "\t\t\t*             * \n",
      "\t\t\t*             * \n",
      "\t\t\t*             * \n",
      "\t\t\t* * * * * * * * \n"
     ]
    }
   ],
   "source": [
    "n = int(input(\"Enter number of rows:\"))\n",
    "for i in range(n):\n",
    "    print(\"\\t\\t\\t\",end='')\n",
    "    for j in range(n):\n",
    "        if (i==0 or j==0 or j==n-1 or i==n-1):\n",
    "            print(\"*\",end=' ')\n",
    "        elif i!=0 and i!=n-1:\n",
    "            print(\"  \",end='')\n",
    "    print()"
   ]
  },
  {
   "cell_type": "raw",
   "id": "40fd5287",
   "metadata": {},
   "source": [
    "Name : Akash Kumar Singh\n",
    "Registraion No: 219310279\n",
    "Batch 1\n",
    "Program 4:\n",
    "            1\n",
    "            1 1\n",
    "            1 2 1\n",
    "            1 3 3 1\n",
    "            1 4 6 4 1"
   ]
  },
  {
   "cell_type": "code",
   "execution_count": 43,
   "id": "6a3fc745",
   "metadata": {},
   "outputs": [
    {
     "name": "stdout",
     "output_type": "stream",
     "text": [
      "Enter number of rows:5\n",
      "\t\t\t1\t\n",
      "\t\t\t1\t1\t\n",
      "\t\t\t1\t2\t1\t\n",
      "\t\t\t1\t3\t3\t1\t\n",
      "\t\t\t1\t4\t6\t4\t1\t\n"
     ]
    }
   ],
   "source": [
    "n = int(input(\"Enter number of rows:\"))\n",
    "arr=[]\n",
    "for i in range(1,n+1):\n",
    "    narr=arr\n",
    "    arr=[]\n",
    "    print(\"\\t\\t\\t\",end='')\n",
    "    for j in range(0, i):\n",
    "        if(j==0 or j==i-1):\n",
    "            print(1,end='\\t')\n",
    "            arr.append(1);\n",
    "        else:\n",
    "            arr.append(narr[j]+narr[j-1])\n",
    "            print(arr[j],end='\\t')\n",
    "    print()"
   ]
  },
  {
   "cell_type": "raw",
   "id": "3a807b6e",
   "metadata": {},
   "source": [
    "Name : Akash Kumar Singh\n",
    "Registraion No: 219310279\n",
    "Batch 1\n",
    "Program 5:\n",
    "            *\n",
    "           **\n",
    "          ***\n",
    "         ****\n",
    "        *****\n",
    "         ****\n",
    "          ***\n",
    "           **\n",
    "            *"
   ]
  },
  {
   "cell_type": "code",
   "execution_count": 37,
   "id": "dfac6242",
   "metadata": {},
   "outputs": [
    {
     "name": "stdout",
     "output_type": "stream",
     "text": [
      "Enter number of rows:5\n",
      "\t\t\t     \n",
      "\t\t\t    *\n",
      "\t\t\t   **\n",
      "\t\t\t  ***\n",
      "\t\t\t ****\n",
      "\t\t\t*****\n",
      "\t\t\t ****\n",
      "\t\t\t  ***\n",
      "\t\t\t   **\n",
      "\t\t\t    *\n"
     ]
    }
   ],
   "source": [
    "n = int(input(\"Enter number of rows:\"))\n",
    "for i in range(n):\n",
    "    print(\"\\t\\t\\t\",end='')\n",
    "    for j in range(n,i,-1):\n",
    "        print(\" \",end='')\n",
    "    for j in range(i):\n",
    "        print(\"*\",end='')\n",
    "    print()\n",
    "for i in range(n,0,-1):\n",
    "    print(\"\\t\\t\\t\",end='')\n",
    "    for j in range(i,n):\n",
    "        print(\" \",end='')\n",
    "    for j in range(i):\n",
    "        print(\"*\",end='')\n",
    "    print()"
   ]
  },
  {
   "cell_type": "raw",
   "id": "9afe9fc1",
   "metadata": {},
   "source": [
    "Name : Akash Kumar Singh\n",
    "Registraion No: 219310279\n",
    "Batch 1\n",
    "Program 6:\n",
    "            *\n",
    "           --\n",
    "          ***\n",
    "         ----\n",
    "        *****\n",
    "         ----\n",
    "          ***\n",
    "           --\n",
    "            *"
   ]
  },
  {
   "cell_type": "code",
   "execution_count": 33,
   "id": "b7099711",
   "metadata": {},
   "outputs": [
    {
     "name": "stdout",
     "output_type": "stream",
     "text": [
      "Enter number of rows:5\n",
      "\t\t\t     \n",
      "\t\t\t    *\n",
      "\t\t\t   --\n",
      "\t\t\t  ***\n",
      "\t\t\t ----\n",
      "\t\t\t*****\n",
      "\t\t\t ----\n",
      "\t\t\t  ***\n",
      "\t\t\t   --\n",
      "\t\t\t    *\n"
     ]
    }
   ],
   "source": [
    "n = int(input(\"Enter number of rows:\"))\n",
    "for i in range(n):\n",
    "    print(\"\\t\\t\\t\",end='')\n",
    "    str = '*' if i%2==1 else '-'\n",
    "    for j in range(n,i,-1):\n",
    "        print(\" \",end='')\n",
    "    for j in range(i):\n",
    "        print(str,end='')\n",
    "    print()\n",
    "for i in range(n,0,-1):\n",
    "    print(\"\\t\\t\\t\",end='')\n",
    "    str = '*' if i%2==1 else '-'\n",
    "    for j in range(i,n):\n",
    "        print(\" \",end='')\n",
    "    for j in range(i):\n",
    "        print(str,end='')\n",
    "    print()"
   ]
  }
 ],
 "metadata": {
  "kernelspec": {
   "display_name": "Python 3 (ipykernel)",
   "language": "python",
   "name": "python3"
  },
  "language_info": {
   "codemirror_mode": {
    "name": "ipython",
    "version": 3
   },
   "file_extension": ".py",
   "mimetype": "text/x-python",
   "name": "python",
   "nbconvert_exporter": "python",
   "pygments_lexer": "ipython3",
   "version": "3.10.6"
  }
 },
 "nbformat": 4,
 "nbformat_minor": 5
}
