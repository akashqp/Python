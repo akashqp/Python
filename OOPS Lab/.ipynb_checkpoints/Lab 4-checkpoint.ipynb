{
 "cells": [
  {
   "cell_type": "raw",
   "id": "51397d5a",
   "metadata": {},
   "source": [
    "1. Syntax of if - else and nested if - else\n",
    "Name : Akash Kumar Singh\n",
    "Registraion No: 219310279\n",
    "Batch 1"
   ]
  },
  {
   "cell_type": "code",
   "execution_count": 1,
   "id": "544cd0ed",
   "metadata": {},
   "outputs": [
    {
     "name": "stdout",
     "output_type": "stream",
     "text": [
      "\n"
     ]
    }
   ],
   "source": [
    "\"\"\"\" if(condition):\n",
    "        body\n",
    "        if(condition):\n",
    "            body\n",
    "        elif (condition):\n",
    "            body\n",
    "        else:\n",
    "            body\n",
    "    elif (condition):\n",
    "        body\n",
    "    else:\n",
    "        body \"\"\"\n",
    "print()"
   ]
  },
  {
   "cell_type": "raw",
   "id": "80b0718c",
   "metadata": {},
   "source": [
    "2. In given two numbers, check which number is greater\n",
    "Name : Akash Kumar Singh\n",
    "Registraion No: 219310279"
   ]
  },
  {
   "cell_type": "code",
   "execution_count": 2,
   "id": "e0261fa6",
   "metadata": {},
   "outputs": [
    {
     "name": "stdout",
     "output_type": "stream",
     "text": [
      "Enter a number:5\n",
      "Enter a number:6\n",
      "6 is greater than 5\n"
     ]
    }
   ],
   "source": [
    "n1 = int(input(\"Enter a number:\"))\n",
    "n2 = int(input(\"Enter a number:\"))\n",
    "if(n1>n2):\n",
    "    print(\"%d is greater than %d\"%(n1,n2))\n",
    "else:\n",
    "    print(\"%d is greater than %d\"%(n2,n1))"
   ]
  },
  {
   "cell_type": "raw",
   "id": "59a4058e",
   "metadata": {},
   "source": [
    "3. Program to increment the number if number is positive\n",
    "Name : Akash Kumar Singh\n",
    "Registraion No: 219310279"
   ]
  },
  {
   "cell_type": "code",
   "execution_count": 3,
   "id": "6cb985fa",
   "metadata": {},
   "outputs": [
    {
     "name": "stdout",
     "output_type": "stream",
     "text": [
      "Enter a number : 5\n",
      "New Number : 6\n"
     ]
    }
   ],
   "source": [
    "n = int(input(\"Enter a number : \"))\n",
    "if(n>0):\n",
    "    n += 1\n",
    "print(\"New Number : %d\"%n)"
   ]
  },
  {
   "cell_type": "raw",
   "id": "dd8c5be9",
   "metadata": {},
   "source": [
    "4. Program to display if person is eligible for voting or not. If not Display the Age.\n",
    "Name : Akash Kumar Singh\n",
    "Registraion No: 219310279"
   ]
  },
  {
   "cell_type": "code",
   "execution_count": 4,
   "id": "96901c10",
   "metadata": {},
   "outputs": [
    {
     "name": "stdout",
     "output_type": "stream",
     "text": [
      "Enter age : 17\n",
      "Age = 17\n",
      "not eligible for voting\n"
     ]
    }
   ],
   "source": [
    "age = int(input(\"Enter age : \"))\n",
    "if (age>=18):\n",
    "    print(\"Eligible for voting\")\n",
    "else:\n",
    "    print(\"Age = %d\\nnot eligible for voting\"%age)"
   ]
  },
  {
   "cell_type": "raw",
   "id": "d77af229",
   "metadata": {},
   "source": [
    "5. Program to determine whether numbers are equal or not\n",
    "Name : Akash Kumar Singh\n",
    "Registraion No: 219310279"
   ]
  },
  {
   "cell_type": "code",
   "execution_count": 5,
   "id": "65cc1bbc",
   "metadata": {},
   "outputs": [
    {
     "name": "stdout",
     "output_type": "stream",
     "text": [
      "Enter a number:5\n",
      "Enter a number:5\n",
      "Two numbers are equal\n"
     ]
    }
   ],
   "source": [
    "n1 = int(input(\"Enter a number:\"))\n",
    "n2 = int(input(\"Enter a number:\"))\n",
    "if(n1==n2):\n",
    "    print(\"Two numbers are equal\")\n",
    "else:\n",
    "    print(\"Two number are not equal\")"
   ]
  },
  {
   "cell_type": "raw",
   "id": "6eadd534",
   "metadata": {},
   "source": [
    "6. Write a program to check number is even or odd\n",
    "Name : Akash Kumar Singh\n",
    "Registraion No: 219310279"
   ]
  },
  {
   "cell_type": "code",
   "execution_count": 6,
   "id": "fd343a3d",
   "metadata": {},
   "outputs": [
    {
     "name": "stdout",
     "output_type": "stream",
     "text": [
      "Enter a number:5\n",
      "Number is odd\n"
     ]
    }
   ],
   "source": [
    "n = int(input(\"Enter a number:\"))\n",
    "if (n == 0):\n",
    "    print(\"Number is zero\")\n",
    "elif (n%2 == 1):\n",
    "    print(\"Number is odd\")\n",
    "elif (n%2 == 0):\n",
    "    print(\"Number is even\")"
   ]
  },
  {
   "cell_type": "raw",
   "id": "10e3b806",
   "metadata": {},
   "source": [
    "7. Program to enter a number and check its interval in (0-10), (11-20), (21-30), (31-40), (41-50)\n",
    "Name : Akash Kumar Singh\n",
    "Registraion No: 219310279"
   ]
  },
  {
   "cell_type": "code",
   "execution_count": 7,
   "id": "e1ed2b79",
   "metadata": {},
   "outputs": [
    {
     "name": "stdout",
     "output_type": "stream",
     "text": [
      "Enter a number:34\n",
      "Number present in range(31-40)\n"
     ]
    }
   ],
   "source": [
    "n = int(input(\"Enter a number:\"))\n",
    "if(0<=n<=10):\n",
    "    print(\"Number present in range(0-10)\")\n",
    "elif(11<=n<=20):\n",
    "    print(\"Number present in range(11-20)\")\n",
    "elif(21<=n<=30):\n",
    "    print(\"Number present in range(21-30)\")\n",
    "elif(31<=n<=40):\n",
    "    print(\"Number present in range(31-40)\")\n",
    "elif(41<=n<=50):\n",
    "    print(\"Number present in range(41-50)\")\n",
    "else:\n",
    "    print(\"Number Outside given ranges\")"
   ]
  },
  {
   "cell_type": "raw",
   "id": "f264c741",
   "metadata": {},
   "source": [
    "8. Write a program to find the greatest number among three numbers\n",
    "Name : Akash Kumar Singh\n",
    "Registraion No: 219310279"
   ]
  },
  {
   "cell_type": "code",
   "execution_count": 8,
   "id": "5f938849",
   "metadata": {},
   "outputs": [
    {
     "name": "stdout",
     "output_type": "stream",
     "text": [
      "Enter a number:5\n",
      "Enter a number:1\n",
      "Enter a number:7\n",
      "Greatest number = 7\n"
     ]
    }
   ],
   "source": [
    "n1 = int(input(\"Enter a number:\"))\n",
    "n2 = int(input(\"Enter a number:\"))\n",
    "n3 = int(input(\"Enter a number:\"))\n",
    "if(n1>n2 and n1>=n3) or (n1>=n2 and n1>n3):\n",
    "    print(\"Greates number =\",n1)\n",
    "elif(n2>n1 and n2>=n3) or (n2>=n1 and n2>n3):\n",
    "    print(\"Greatest number =\",n2)\n",
    "elif(n3>n1 and n3>=n2) or (n3>=n1 and n3>n2):\n",
    "    print(\"Greatest number =\",n3)\n",
    "else:\n",
    "    print(\"Three numbers are equal\")"
   ]
  },
  {
   "cell_type": "raw",
   "id": "0de954e4",
   "metadata": {},
   "source": [
    "9. Write a program to print the color name if user enter first letter of color name\n",
    "Name : Akash Kumar Singh\n",
    "Registraion No: 219310279"
   ]
  },
  {
   "cell_type": "code",
   "execution_count": 9,
   "id": "5a8893d4",
   "metadata": {},
   "outputs": [
    {
     "name": "stdout",
     "output_type": "stream",
     "text": [
      "Enter First Letter of Color:B\n",
      "Color starting with letter B\n",
      "black\n",
      "blue\n"
     ]
    }
   ],
   "source": [
    "colors = ['black', 'silver', 'gray', 'white', 'maroon', 'red', 'purple', 'fuchsia',\n",
    "'green', 'lime', 'olive', 'yellow', 'navy', 'blue', 'teal', 'aqua']\n",
    "ch = input(\"Enter First Letter of Color:\")\n",
    "print(\"Color starting with letter\",ch)\n",
    "for color in colors:\n",
    "    if ch.upper() == color[0] or ch.lower()==color[0]:\n",
    "        print(color)"
   ]
  },
  {
   "cell_type": "raw",
   "id": "48256b44",
   "metadata": {},
   "source": [
    "10. Perform Arithmetic Operation using if-else block (1. Addition, 2. Subtraction, \n",
    "    3. Multiplication, 4. Division, 5. Modulus)\n",
    "Name : Akash Kumar Singh\n",
    "Registraion No: 219310279"
   ]
  },
  {
   "cell_type": "code",
   "execution_count": 10,
   "id": "f78f8a53",
   "metadata": {},
   "outputs": [
    {
     "name": "stdout",
     "output_type": "stream",
     "text": [
      "Arithmetic Operations\n",
      "1. Addition \n",
      "2. Subtraction\n",
      "3. Multiplication\n",
      "4. Division\n",
      "5. Modulus\n",
      "Enter choice from above menu:3\n",
      "Enter a number:7\n",
      "Enter a number:5\n",
      "Product = 35\n"
     ]
    }
   ],
   "source": [
    "print(\"Arithmetic Operations\\n1. Addition \\n2. Subtraction\\n3. Multiplication\")\n",
    "print(\"4. Division\\n5. Modulus\")\n",
    "ch = int(input(\"Enter choice from above menu:\"))\n",
    "n1 = int(input(\"Enter a number:\"))\n",
    "n2 = int(input(\"Enter a number:\"))\n",
    "\n",
    "if(ch == 1):\n",
    "    print(\"Sum =\",n1+n2)\n",
    "elif(ch == 2):\n",
    "    print(\"Differnece =\",n1-n2)\n",
    "elif(ch == 3):\n",
    "    print(\"Product =\",n1*n2)\n",
    "elif(ch == 4):\n",
    "    print(\"Quotient =\",n1/n2)\n",
    "elif(ch == 5):\n",
    "    print(\"Remainder =\",n1%n2)"
   ]
  },
  {
   "cell_type": "raw",
   "id": "102ea4b8",
   "metadata": {},
   "source": [
    "11. Program to print Prime Numbers in a given range\n",
    "Name : Akash Kumar Singh\n",
    "Registraion No: 219310279"
   ]
  },
  {
   "cell_type": "code",
   "execution_count": 8,
   "id": "d2e78d16",
   "metadata": {},
   "outputs": [
    {
     "name": "stdout",
     "output_type": "stream",
     "text": [
      "Enter range:100\n",
      "Prime Numbers:\n",
      "2\n",
      "3\n",
      "5\n",
      "7\n",
      "11\n",
      "13\n",
      "17\n",
      "19\n",
      "23\n",
      "29\n",
      "31\n",
      "37\n",
      "41\n",
      "43\n",
      "47\n",
      "53\n",
      "59\n",
      "61\n",
      "67\n",
      "71\n",
      "73\n",
      "79\n",
      "83\n",
      "89\n",
      "97\n"
     ]
    }
   ],
   "source": [
    "n = int(input(\"Enter range:\"))\n",
    "print(\"Prime Numbers:\")\n",
    "for i in range(2,n+1):\n",
    "    flag = 0\n",
    "    for j in range(2,i//2+1):\n",
    "        if i%j == 0:\n",
    "            flag = 1\n",
    "            break\n",
    "    if flag == 0:\n",
    "        print(i)"
   ]
  },
  {
   "cell_type": "raw",
   "id": "897211c3",
   "metadata": {},
   "source": [
    "12. Program to check whether a given number is Armstrong or not.\n",
    "Name : Akash Kumar Singh\n",
    "Registraion No: 219310279"
   ]
  },
  {
   "cell_type": "code",
   "execution_count": 19,
   "id": "bb4b5d26",
   "metadata": {},
   "outputs": [
    {
     "name": "stdout",
     "output_type": "stream",
     "text": [
      "Enter a number:153\n",
      "Armstrong Number\n"
     ]
    }
   ],
   "source": [
    "n1 = n = int(input(\"Enter a number:\"))\n",
    "s = 0\n",
    "while(n1 != 0):\n",
    "    dig = n1 % 10\n",
    "    s += (dig**len(str(n)))\n",
    "    n1 //= 10\n",
    "if s==n:\n",
    "    print(\"Armstrong Number\")\n",
    "else:\n",
    "    print(\"Not Armstrong Number\")"
   ]
  },
  {
   "cell_type": "raw",
   "id": "34abf95d",
   "metadata": {},
   "source": [
    "13. Program to check whether a given year is leap year or not.\n",
    "Name : Akash Kumar Singh\n",
    "Registraion No: 219310279"
   ]
  },
  {
   "cell_type": "code",
   "execution_count": 21,
   "id": "f38e1f6d",
   "metadata": {},
   "outputs": [
    {
     "name": "stdout",
     "output_type": "stream",
     "text": [
      "Enter year:1900\n",
      "Not Leap Year\n"
     ]
    }
   ],
   "source": [
    "yr = int(input(\"Enter year:\"))\n",
    "if(yr%4==0 and yr%100!=0) or yr%400==0:\n",
    "    print(\"Leap Year\")\n",
    "else:\n",
    "    print(\"Not Leap Year\")"
   ]
  }
 ],
 "metadata": {
  "kernelspec": {
   "display_name": "Python 3 (ipykernel)",
   "language": "python",
   "name": "python3"
  },
  "language_info": {
   "codemirror_mode": {
    "name": "ipython",
    "version": 3
   },
   "file_extension": ".py",
   "mimetype": "text/x-python",
   "name": "python",
   "nbconvert_exporter": "python",
   "pygments_lexer": "ipython3",
   "version": "3.10.6"
  }
 },
 "nbformat": 4,
 "nbformat_minor": 5
}
