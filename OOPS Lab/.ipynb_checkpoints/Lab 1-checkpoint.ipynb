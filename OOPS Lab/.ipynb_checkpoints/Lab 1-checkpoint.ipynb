{
 "cells": [
  {
   "cell_type": "code",
   "execution_count": 4,
   "id": "30504bef",
   "metadata": {},
   "outputs": [
    {
     "name": "stdout",
     "output_type": "stream",
     "text": [
      "Enter a number:6\n",
      "Enter a number:5\n",
      "Sum = 11\n",
      "Difference = 1\n",
      "Product = 30\n",
      "Quotient = 1.20\n"
     ]
    }
   ],
   "source": [
    "# 1. Arithmetic Operation on two numbers\n",
    "\n",
    "num1 = int(input(\"Enter a number:\"))\n",
    "num2 = int(input(\"Enter a number:\"))\n",
    "add = num1 + num2\n",
    "diff = abs(num1 - num2)\n",
    "prod = num1 * num2\n",
    "div = num1 / num2\n",
    "div1 = num2 / num1\n",
    "print(\"Sum =\",add)\n",
    "print(\"Difference =\",diff)\n",
    "print(\"Product =\",prod)\n",
    "print(\"Quotient(when num1 is divided by num2) = {:.2f}\".format(div))\n",
    "print(\"Quotient(when num2 is divided by num1) = {:.2f}\".format(div1))"
   ]
  },
  {
   "cell_type": "code",
   "execution_count": 23,
   "id": "9b8b40fc",
   "metadata": {},
   "outputs": [
    {
     "name": "stdout",
     "output_type": "stream",
     "text": [
      "Subtraction gives the expected output\n",
      "Subtraction gives the expected output\n",
      "Modulus gives the expected output\n"
     ]
    }
   ],
   "source": [
    "# 2. Perform all Test Cases for 40 and 30 if expexted output is 10\n",
    "\n",
    "num1 = 30\n",
    "num2 = 40\n",
    "out = 10\n",
    "\n",
    "if((num1 + num2) == out):\n",
    "    print(\"Addition gives the expected output\")\n",
    "if(abs(num1 - num2) == out):\n",
    "    print(\"Subtraction gives the expected output\")\n",
    "if((num2 - num1) == out):\n",
    "    print(\"Subtraction gives the expected output\")\n",
    "if((num1 * num2) == out):\n",
    "    print(\"Multiplication gives the expected output\")\n",
    "if((num1 / num2) == out or (num2 / num1) == out):\n",
    "    print(\"Division gives the expected output\")\n",
    "if((num1 % num2) == out or (num2 % num1) == out):\n",
    "    print(\"Modulus gives the expected output\")\n",
    "if((num1 // num2) == out):\n",
    "    print(\"Integer Division gives the expected output\")\n",
    "if((num1 & num2) == out or (num2 & num1) == out):\n",
    "    print(\"'Bitwise and' gives the expected output\")\n",
    "if((num1 | num2) == out or (num2 | num1) == out):\n",
    "    print(\"'Bitwise or' gives the expected output\")\n",
    "if((num1 ^ num2) == out or (num2 ^ num1) == out):\n",
    "    print(\"'Bitwise XOR' gives the expected output\")"
   ]
  },
  {
   "cell_type": "code",
   "execution_count": 9,
   "id": "c5970a4b",
   "metadata": {},
   "outputs": [
    {
     "name": "stdout",
     "output_type": "stream",
     "text": [
      "Enter a String:Akash Kumar Singh\n",
      "Character Present at index 0 : A\n",
      "Character Present at index 4 : h\n",
      "Character Present at index 7 : u\n"
     ]
    }
   ],
   "source": [
    "# 3. Print Characters present at indexes 0, 4 and 7 of a String\n",
    "\n",
    "string = input(\"Enter a String:\")\n",
    "print(\"Character Present at index 0 :\",str[0])\n",
    "print(\"Character Present at index 4 :\",str[4])\n",
    "print(\"Character Present at index 7 :\",str[7])"
   ]
  },
  {
   "cell_type": "code",
   "execution_count": 11,
   "id": "a5158709",
   "metadata": {},
   "outputs": [
    {
     "name": "stdout",
     "output_type": "stream",
     "text": [
      "Enter a list:1,1\n",
      "Same\n"
     ]
    }
   ],
   "source": [
    "# 4. Check if the first and last number of a list is same or not\n",
    "\n",
    "list = input(\"Enter a list:\")\n",
    "if(list[0] == list[-1]):\n",
    "    print(\"Same\")"
   ]
  },
  {
   "cell_type": "code",
   "execution_count": 20,
   "id": "5d0b2813",
   "metadata": {},
   "outputs": [
    {
     "name": "stdout",
     "output_type": "stream",
     "text": [
      "<class 'int'>\n",
      "<class 'float'>\n",
      "<class 'complex'>\n",
      "<class 'bool'>\n",
      "<class 'str'>\n",
      "<class 'list'>\n",
      "<class 'tuple'>\n",
      "<class 'dict'>\n",
      "<class 'set'>\n",
      "<class 'NoneType'>\n"
     ]
    }
   ],
   "source": [
    "# 5. Initialise the variable of different types of literals and find the type\n",
    "\n",
    "n = 5\n",
    "n1 = 5.0\n",
    "n2 = 5 + 6j\n",
    "boolean = True\n",
    "string = \"Akash\"\n",
    "lt = [1,2,3]\n",
    "tup = (1,2,3)\n",
    "dic = {\"1\":1,\"2\":2}\n",
    "st = {1,2,3}\n",
    "\n",
    "print(type(n))\n",
    "print(type(n1))\n",
    "print(type(n2))\n",
    "print(type(boolean))\n",
    "print(type(string))\n",
    "print(type(lt))\n",
    "print(type(tup))\n",
    "print(type(dic))\n",
    "print(type(st))\n",
    "print(type(None))"
   ]
  },
  {
   "cell_type": "code",
   "execution_count": 18,
   "id": "87e87e15",
   "metadata": {},
   "outputs": [
    {
     "name": "stdout",
     "output_type": "stream",
     "text": [
      "Enter a number:5\n",
      "Enter a number:6\n",
      "Bitwise or : 7\n",
      "Bitwise and : 4\n",
      "Bitwise XOR : 3\n",
      "Bitwise one's complement : -6\n",
      "Bitwise left shift : 20\n",
      "Bitwise right shift : 1\n"
     ]
    }
   ],
   "source": [
    "# 6. Perform all bitwise operations\n",
    "\n",
    "num1 = int(input(\"Enter a number:\"))\n",
    "num2 = int(input(\"Enter a number:\"))\n",
    "print(\"Bitwise or :\",(num1|num2))\n",
    "print(\"Bitwise and :\",(num1&num2))\n",
    "print(\"Bitwise XOR :\",(num1^num2))\n",
    "print(\"Bitwise one's complement :\",(~num1))\n",
    "print(\"Bitwise left shift :\",(num1<<2))\n",
    "print(\"Bitwise right shift :\",(num1>>2))"
   ]
  }
 ],
 "metadata": {
  "kernelspec": {
   "display_name": "Python 3 (ipykernel)",
   "language": "python",
   "name": "python3"
  },
  "language_info": {
   "codemirror_mode": {
    "name": "ipython",
    "version": 3
   },
   "file_extension": ".py",
   "mimetype": "text/x-python",
   "name": "python",
   "nbconvert_exporter": "python",
   "pygments_lexer": "ipython3",
   "version": "3.10.4"
  }
 },
 "nbformat": 4,
 "nbformat_minor": 5
}
