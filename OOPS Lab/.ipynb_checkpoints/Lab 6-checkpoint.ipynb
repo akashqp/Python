{
 "cells": [
  {
   "cell_type": "raw",
   "id": "70c44e2e",
   "metadata": {},
   "source": [
    "Registraion No: 219310279\n",
    "Batch 1\n",
    "Name : Akash Kumar Singh\n",
    "Program 1: Program to find factorial of a number provided by the user."
   ]
  },
  {
   "cell_type": "code",
   "execution_count": 5,
   "id": "c89419a3",
   "metadata": {},
   "outputs": [
    {
     "name": "stdout",
     "output_type": "stream",
     "text": [
      "Enter a number:5\n",
      "Factorial of 5 = 120\n"
     ]
    }
   ],
   "source": [
    "n = int(input(\"Enter a number:\"))\n",
    "fact = 1\n",
    "for i in range(2, n+1):\n",
    "    fact*=i\n",
    "print(\"Factorial of %d = %d\"%(n,fact))"
   ]
  },
  {
   "cell_type": "raw",
   "id": "977b745c",
   "metadata": {},
   "source": [
    "Registraion No: 219310279\n",
    "Name : Akash Kumar Singh\n",
    "Program 2: Program to find sum of natural numbers up to nth term."
   ]
  },
  {
   "cell_type": "code",
   "execution_count": 6,
   "id": "9caad337",
   "metadata": {},
   "outputs": [
    {
     "name": "stdout",
     "output_type": "stream",
     "text": [
      "Enter number of terms:5\n",
      "Sum of natural numbers till 5 = 15\n"
     ]
    }
   ],
   "source": [
    "n = int(input(\"Enter number of terms:\"))\n",
    "sum=0\n",
    "for i in range(1,n+1):\n",
    "    sum+=i\n",
    "print(\"Sum of natural numbers till %d = %d\"%(n,sum))"
   ]
  },
  {
   "cell_type": "raw",
   "id": "cf4e2742",
   "metadata": {},
   "source": [
    "Registraion No: 219310279\n",
    "Name : Akash Kumar Singh\n",
    "Program 3: Program to fibonacci sequence up to nth term."
   ]
  },
  {
   "cell_type": "code",
   "execution_count": 12,
   "id": "b169e6d8",
   "metadata": {},
   "outputs": [
    {
     "name": "stdout",
     "output_type": "stream",
     "text": [
      "Enter number of terms:9\n",
      "Fibonacci Series:\n",
      "0\t1\t1\t2\t3\t5\t8\t13\t21\t"
     ]
    }
   ],
   "source": [
    "n = int(input(\"Enter number of terms:\"))\n",
    "first = 0\n",
    "second = 1\n",
    "print(\"Fibonacci Series:\\n%d\\t%d\\t\"%(first,second),end='')\n",
    "for i in range(n-2):\n",
    "    print(first+second,end='\\t')\n",
    "    first,second = second,first+second"
   ]
  }
 ],
 "metadata": {
  "kernelspec": {
   "display_name": "Python 3 (ipykernel)",
   "language": "python",
   "name": "python3"
  },
  "language_info": {
   "codemirror_mode": {
    "name": "ipython",
    "version": 3
   },
   "file_extension": ".py",
   "mimetype": "text/x-python",
   "name": "python",
   "nbconvert_exporter": "python",
   "pygments_lexer": "ipython3",
   "version": "3.10.6"
  }
 },
 "nbformat": 4,
 "nbformat_minor": 5
}
