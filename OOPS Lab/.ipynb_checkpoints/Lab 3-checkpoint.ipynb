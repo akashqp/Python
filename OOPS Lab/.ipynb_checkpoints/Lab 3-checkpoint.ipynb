{
 "cells": [
  {
   "cell_type": "raw",
   "id": "bbed7e7e",
   "metadata": {},
   "source": [
    "1. Program to Create Dictionary and Perform Various Operations on the Dictionary\n",
    "Name : Akash Kumar Singh\n",
    "Registraion No: 219310279\n",
    "Batch 1"
   ]
  },
  {
   "cell_type": "code",
   "execution_count": 37,
   "id": "835f8978",
   "metadata": {},
   "outputs": [
    {
     "name": "stdout",
     "output_type": "stream",
     "text": [
      "Enter a Dictionary:\n",
      "{1:'Red', 2:'Blue', 3:'Green'}\n"
     ]
    }
   ],
   "source": [
    "dic = eval(input(\"Enter a Dictionary:\\n\"))"
   ]
  },
  {
   "cell_type": "code",
   "execution_count": 38,
   "id": "8345cb58",
   "metadata": {},
   "outputs": [
    {
     "name": "stdout",
     "output_type": "stream",
     "text": [
      "Enter color name to be inserted into the dictionary alongwith its key name:4,'Orange'\n",
      "New Dictionary: {1: 'Red', 2: 'Blue', 3: 'Green', 4: 'Orange'}\n"
     ]
    }
   ],
   "source": [
    "val = eval(input(\"Enter color name to be inserted into the dictionary alongwith\n",
    "                 its key name:\"))\n",
    "dic[val[0]] = val[1]\n",
    "print(\"New Dictionary: {}\".format(dic))"
   ]
  },
  {
   "cell_type": "code",
   "execution_count": 13,
   "id": "4e93cb92",
   "metadata": {},
   "outputs": [
    {
     "name": "stdout",
     "output_type": "stream",
     "text": [
      "Enter key for which color name to be changed and new color name:2,'Black'\n",
      "New Dictionary: {1: 'Red', 3: 'Green', 4: 'Orange', 2: 'Black'}\n"
     ]
    }
   ],
   "source": [
    "val = eval(input(\"Enter key for which color name to be changed and new color\n",
    "                 name:\"))\n",
    "dic[val[0]] = val[1]\n",
    "print(\"New Dictionary: {}\".format(dic))"
   ]
  },
  {
   "cell_type": "code",
   "execution_count": 14,
   "id": "15090114",
   "metadata": {},
   "outputs": [
    {
     "name": "stdout",
     "output_type": "stream",
     "text": [
      "Enter color number to be removed:2\n",
      "Color Removed: Black\n"
     ]
    }
   ],
   "source": [
    "val = eval(input(\"Enter color number to be removed:\"))\n",
    "print(\"Color Removed: {}\".format(dic.pop(val)))"
   ]
  },
  {
   "cell_type": "code",
   "execution_count": 16,
   "id": "975dff8c",
   "metadata": {},
   "outputs": [
    {
     "name": "stdout",
     "output_type": "stream",
     "text": [
      "dict_items([(1, 'Red'), (3, 'Green'), (4, 'Orange')])\n"
     ]
    }
   ],
   "source": [
    "print(\"{}\".format(dic.items()))"
   ]
  },
  {
   "cell_type": "code",
   "execution_count": 17,
   "id": "318aa61e",
   "metadata": {},
   "outputs": [
    {
     "name": "stdout",
     "output_type": "stream",
     "text": [
      "List of colors: dict_values(['Red', 'Green', 'Orange'])\n"
     ]
    }
   ],
   "source": [
    "print(\"List of colors: {}\".format(dic.values()))"
   ]
  },
  {
   "cell_type": "code",
   "execution_count": 20,
   "id": "885ced4c",
   "metadata": {},
   "outputs": [
    {
     "name": "stdout",
     "output_type": "stream",
     "text": [
      "{1: 1, 3: 9, 5: 25, 7: 49, 9: 81}\n"
     ]
    }
   ],
   "source": [
    "# Dictionary Comprehension for Odd Squares\n",
    "dic1 = {x: x*x for x in range(11) if x % 2 == 1}\n",
    "print(dic1)"
   ]
  },
  {
   "cell_type": "code",
   "execution_count": 23,
   "id": "49903e3d",
   "metadata": {},
   "outputs": [
    {
     "name": "stdout",
     "output_type": "stream",
     "text": [
      "Reverse Sorted List of Keys: [9, 7, 5, 3, 1]\n"
     ]
    }
   ],
   "source": [
    "print(\"Reverse Sorted List of Keys: {}\".format(sorted(dic1, reverse = True)))"
   ]
  },
  {
   "cell_type": "code",
   "execution_count": 24,
   "id": "92ed9d9b",
   "metadata": {},
   "outputs": [
    {
     "name": "stdout",
     "output_type": "stream",
     "text": [
      "Red\n",
      "Green\n",
      "Orange\n"
     ]
    }
   ],
   "source": [
    "# Iterating through a Dictionary\n",
    "for i in dic:\n",
    "    print(dic[i])"
   ]
  },
  {
   "cell_type": "code",
   "execution_count": 25,
   "id": "b314ab97",
   "metadata": {},
   "outputs": [
    {
     "name": "stdout",
     "output_type": "stream",
     "text": [
      "New Dictionary: {}\n"
     ]
    }
   ],
   "source": [
    "dic.clear()\n",
    "print(\"New Dictionary: {}\".format(dic))"
   ]
  },
  {
   "cell_type": "raw",
   "id": "86fc2663",
   "metadata": {},
   "source": []
  },
  {
   "cell_type": "raw",
   "id": "9ce323f0",
   "metadata": {},
   "source": [
    "2. Program to Create Tuple and Perform Various Operations on the Tuple\n",
    "Name : Akash Kumar Singh\n",
    "Registraion No: 219310279"
   ]
  },
  {
   "cell_type": "code",
   "execution_count": 26,
   "id": "0a16557b",
   "metadata": {},
   "outputs": [
    {
     "name": "stdout",
     "output_type": "stream",
     "text": [
      "Enter a Tuple:3,4,5,6\n",
      "Length of tuple : 4\n"
     ]
    }
   ],
   "source": [
    "tup = eval(input(\"Enter a Tuple:\"))\n",
    "print(\"Length of tuple : {}\".format(len(tup)))"
   ]
  },
  {
   "cell_type": "code",
   "execution_count": 27,
   "id": "0ffc50f7",
   "metadata": {},
   "outputs": [
    {
     "name": "stdout",
     "output_type": "stream",
     "text": [
      "3\n",
      "4\n",
      "5\n",
      "6\n"
     ]
    }
   ],
   "source": [
    "#Access Tuple Elements using Indexes\n",
    "for i in range(len(tup)):\n",
    "    print(tup[i])"
   ]
  },
  {
   "cell_type": "code",
   "execution_count": 28,
   "id": "e0cb9e8e",
   "metadata": {},
   "outputs": [
    {
     "name": "stdout",
     "output_type": "stream",
     "text": [
      "a:3, b:4, c:5, d:6\n"
     ]
    }
   ],
   "source": [
    "# Unpacking a Tuple\n",
    "a,b,c,d = tup\n",
    "print(\"a:{}, b:{}, c:{}, d:{}\".format(a,b,c,d))"
   ]
  },
  {
   "cell_type": "code",
   "execution_count": 29,
   "id": "f61aef57",
   "metadata": {},
   "outputs": [
    {
     "name": "stdout",
     "output_type": "stream",
     "text": [
      "Enter another Tuple:1,2,3,4\n"
     ]
    }
   ],
   "source": [
    "tup1 = eval(input(\"Enter another Tuple:\"))"
   ]
  },
  {
   "cell_type": "code",
   "execution_count": 31,
   "id": "f469daf4",
   "metadata": {},
   "outputs": [
    {
     "name": "stdout",
     "output_type": "stream",
     "text": [
      "Addition of 2 Tuples : (3, 4, 5, 6, 1, 2, 3, 4)\n"
     ]
    }
   ],
   "source": [
    "# + operator\n",
    "print(\"Addition of 2 Tuples : {}\".format(tup + tup1))"
   ]
  },
  {
   "cell_type": "code",
   "execution_count": 32,
   "id": "13c915e6",
   "metadata": {},
   "outputs": [
    {
     "name": "stdout",
     "output_type": "stream",
     "text": [
      "Multiplication of a tuple with a number : (3, 4, 5, 6, 3, 4, 5, 6)\n"
     ]
    }
   ],
   "source": [
    "# * operator\n",
    "print(\"Multiplication of a tuple with a number : {}\".format(tup*2))"
   ]
  },
  {
   "cell_type": "code",
   "execution_count": 34,
   "id": "a9719804",
   "metadata": {},
   "outputs": [
    {
     "name": "stdout",
     "output_type": "stream",
     "text": [
      "Values in range 1,3 : (4, 5)\n"
     ]
    }
   ],
   "source": [
    "# Slicing\n",
    "print(\"Values in range 1,3 : {}\".format(tup[1:3]))"
   ]
  },
  {
   "cell_type": "code",
   "execution_count": 35,
   "id": "e082419a",
   "metadata": {},
   "outputs": [
    {
     "name": "stdout",
     "output_type": "stream",
     "text": [
      "Enter value to search:3\n",
      "True\n"
     ]
    }
   ],
   "source": [
    "# Membership Check\n",
    "val = eval(input(\"Enter value to search:\"))\n",
    "print(\"{}\".format(val in tup))"
   ]
  }
 ],
 "metadata": {
  "kernelspec": {
   "display_name": "Python 3 (ipykernel)",
   "language": "python",
   "name": "python3"
  },
  "language_info": {
   "codemirror_mode": {
    "name": "ipython",
    "version": 3
   },
   "file_extension": ".py",
   "mimetype": "text/x-python",
   "name": "python",
   "nbconvert_exporter": "python",
   "pygments_lexer": "ipython3",
   "version": "3.10.6"
  }
 },
 "nbformat": 4,
 "nbformat_minor": 5
}
