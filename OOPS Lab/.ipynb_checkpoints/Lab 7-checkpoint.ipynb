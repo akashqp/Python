{
 "cells": [
  {
   "cell_type": "raw",
   "id": "c0f8ed76",
   "metadata": {},
   "source": [
    "Registraion No: 219310279\n",
    "Batch 1\n",
    "Name : Akash Kumar Singh\n",
    "Program 1: Program to make a Simple Calculator using Functions."
   ]
  },
  {
   "cell_type": "code",
   "execution_count": 60,
   "id": "9ca08d56",
   "metadata": {},
   "outputs": [],
   "source": [
    "def add(nums):\n",
    "    sm = 0\n",
    "    for num in nums:\n",
    "        sm+=num\n",
    "    return sm\n",
    "def sub(nums):\n",
    "    diff = 0\n",
    "    for num in nums:\n",
    "        diff-=num\n",
    "    return diff\n",
    "def mul(nums):\n",
    "    prod = 0\n",
    "    for num in nums:\n",
    "        prod*=num\n",
    "    return prod\n",
    "def div(nums):\n",
    "    return nums[0]/nums[1]"
   ]
  },
  {
   "cell_type": "code",
   "execution_count": 23,
   "id": "25cfa937",
   "metadata": {},
   "outputs": [
    {
     "name": "stdout",
     "output_type": "stream",
     "text": [
      "1.Addtion\n",
      "2.Subtraciton\n",
      "3.Multiplication\n",
      "4.Division\n",
      "Enter choice:4\n",
      "Enter dividend and divisor:1234,4\n",
      "\n",
      "Quotient = 308.5\n"
     ]
    }
   ],
   "source": [
    "print(\"1.Addtion\\n2.Subtraciton\\n3.Multiplication\\n4.Division\")\n",
    "ch = int(input(\"Enter choice:\"))\n",
    "if ch == 1:\n",
    "    nums = eval(input(\"Enter numbers to be added:\"))\n",
    "    print(\"\\nSum =\",add(nums))\n",
    "elif ch == 2:\n",
    "    nums = eval(input(\"Enter numbers to be subtracted:\"))\n",
    "    print(\"\\nDifference =\",diff(nums))\n",
    "elif ch == 3:\n",
    "    nums = eval(input(\"Enter numbers to be multiplied:\"))\n",
    "    print(\"\\nProduct =\",mul(nums))\n",
    "elif ch == 4:\n",
    "    nums = eval(input(\"Enter dividend and divisor:\"))\n",
    "    print(\"\\nQuotient =\",div(nums))"
   ]
  },
  {
   "cell_type": "raw",
   "id": "e9da50f4",
   "metadata": {},
   "source": [
    "Registraion No: 219310279\n",
    "Batch 1\n",
    "Name : Akash Kumar Singh\n",
    "Program 2: Program to print program to print LCM and HCF for the given numbers."
   ]
  },
  {
   "cell_type": "code",
   "execution_count": 57,
   "id": "fe7a0ad1",
   "metadata": {},
   "outputs": [],
   "source": [
    "def lcm(n1, n2):\n",
    "    gr = max(n1,n2)\n",
    "    while(True):\n",
    "        if gr%n1==0 and gr%n2==0:\n",
    "            lcm=gr\n",
    "            break\n",
    "        gr+=1\n",
    "    return lcm"
   ]
  },
  {
   "cell_type": "code",
   "execution_count": 58,
   "id": "36b57cd2",
   "metadata": {},
   "outputs": [],
   "source": [
    "def hcf(n1,n2):\n",
    "    return (n1*n2)/lcm(n1,n2)"
   ]
  },
  {
   "cell_type": "code",
   "execution_count": 59,
   "id": "4d7a0866",
   "metadata": {},
   "outputs": [
    {
     "name": "stdout",
     "output_type": "stream",
     "text": [
      "Enter a number:5\n",
      "Enter a number:6\n",
      "LCM = 30\n",
      "HCF = 1.0\n"
     ]
    }
   ],
   "source": [
    "n1 = int(input(\"Enter a number:\"))\n",
    "n2 = int(input(\"Enter a number:\"))\n",
    "print(\"LCM =\",lcm(n1,n2))\n",
    "print(\"HCF =\",hcf(n1,n2))"
   ]
  },
  {
   "cell_type": "raw",
   "id": "e1cd35b8",
   "metadata": {},
   "source": [
    "Registraion No: 219310279\n",
    "Batch 1\n",
    "Name : Akash Kumar Singh\n",
    "Program 3: Program to print factorial of a given number using recursion."
   ]
  },
  {
   "cell_type": "code",
   "execution_count": 32,
   "id": "518c4ffd",
   "metadata": {},
   "outputs": [],
   "source": [
    "def fact(num):\n",
    "    if(num==1):\n",
    "        return 1\n",
    "    else:\n",
    "        return num*fact(num-1)"
   ]
  },
  {
   "cell_type": "code",
   "execution_count": 35,
   "id": "061e4fa1",
   "metadata": {},
   "outputs": [
    {
     "name": "stdout",
     "output_type": "stream",
     "text": [
      "Enter a number:10\n",
      "Factorial of 10 = 3628800\n"
     ]
    }
   ],
   "source": [
    "n = int(input(\"Enter a number:\"))\n",
    "print(\"Factorial of %d = %d\"%(n,fact(n)))"
   ]
  },
  {
   "cell_type": "raw",
   "id": "c01c24a8",
   "metadata": {},
   "source": [
    "Registraion No: 219310279\n",
    "Batch 1\n",
    "Name : Akash Kumar Singh\n",
    "Program 4: Program to print fibonacci sequence up to nth term using recursion."
   ]
  },
  {
   "cell_type": "code",
   "execution_count": 55,
   "id": "b0c4f3a6",
   "metadata": {},
   "outputs": [],
   "source": [
    "def fibonacci(num):\n",
    "    if num==0:\n",
    "        return 0\n",
    "    elif num==1:\n",
    "        return 1\n",
    "    else:\n",
    "        return (fibonacci(num-1) + fibonacci(num-2))"
   ]
  },
  {
   "cell_type": "code",
   "execution_count": 56,
   "id": "4ecfbb4b",
   "metadata": {},
   "outputs": [
    {
     "name": "stdout",
     "output_type": "stream",
     "text": [
      "Enter a number:10\n",
      "0\n",
      "1\n",
      "1\n",
      "2\n",
      "3\n",
      "5\n",
      "8\n",
      "13\n",
      "21\n",
      "34\n"
     ]
    }
   ],
   "source": [
    "num = int(input(\"Enter a number:\"))\n",
    "for i in range(num):\n",
    "    print(fibonacci(i))"
   ]
  }
 ],
 "metadata": {
  "kernelspec": {
   "display_name": "Python 3 (ipykernel)",
   "language": "python",
   "name": "python3"
  },
  "language_info": {
   "codemirror_mode": {
    "name": "ipython",
    "version": 3
   },
   "file_extension": ".py",
   "mimetype": "text/x-python",
   "name": "python",
   "nbconvert_exporter": "python",
   "pygments_lexer": "ipython3",
   "version": "3.10.6"
  }
 },
 "nbformat": 4,
 "nbformat_minor": 5
}
