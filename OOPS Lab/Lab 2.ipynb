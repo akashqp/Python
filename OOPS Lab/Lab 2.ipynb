{
 "cells": [
  {
   "cell_type": "code",
   "execution_count": 4,
   "id": "756c3e29",
   "metadata": {},
   "outputs": [
    {
     "data": {
      "text/plain": [
       "' if(condition):\\n        body\\n        if(condition):\\n            body\\n        elif (condition):\\n            body\\n        else:\\n            body\\n    elif (condition):\\n        body\\n    else:\\n        body '"
      ]
     },
     "execution_count": 4,
     "metadata": {},
     "output_type": "execute_result"
    }
   ],
   "source": [
    "# 1. Syntax of if - else and nested if - else\n",
    "\n",
    "\"\"\" if(condition):\n",
    "        body\n",
    "        if(condition):\n",
    "            body\n",
    "        elif (condition):\n",
    "            body\n",
    "        else:\n",
    "            body\n",
    "    elif (condition):\n",
    "        body\n",
    "    else:\n",
    "        body \"\"\"        "
   ]
  },
  {
   "cell_type": "code",
   "execution_count": 10,
   "id": "e0261fa6",
   "metadata": {},
   "outputs": [
    {
     "name": "stdout",
     "output_type": "stream",
     "text": [
      "Enter a number:4\n",
      "Enter a number:5\n",
      "5 is greater than 4\n"
     ]
    }
   ],
   "source": [
    "# 2. In given two numbers, check which number is greater\n",
    "\n",
    "n1 = int(input(\"Enter a number:\"))\n",
    "n2 = int(input(\"Enter a number:\"))\n",
    "if(n1>n2):\n",
    "    print(\"%d is greater than %d\"%(n1,n2))\n",
    "else:\n",
    "    print(\"%d is greater than %d\"%(n2,n1))"
   ]
  },
  {
   "cell_type": "code",
   "execution_count": 11,
   "id": "6cb985fa",
   "metadata": {},
   "outputs": [
    {
     "name": "stdout",
     "output_type": "stream",
     "text": [
      "Enter a number:5\n",
      "New Number : 6\n"
     ]
    }
   ],
   "source": [
    "# 3. Program to incremetn the number if number is positive\n",
    "\n",
    "n = int(input(\"Enter a number : \"))\n",
    "if(n>0):\n",
    "    n += 1\n",
    "print(\"New Number : %d\"%n)"
   ]
  },
  {
   "cell_type": "code",
   "execution_count": 13,
   "id": "96901c10",
   "metadata": {},
   "outputs": [
    {
     "name": "stdout",
     "output_type": "stream",
     "text": [
      "Enter age : 17\n",
      "Age = 17\n"
     ]
    }
   ],
   "source": [
    "# 4. Program to display if person is eligible for voting or not. If not Display the Age.\n",
    "\n",
    "age = int(input(\"Enter age : \"))\n",
    "if (age>=18):\n",
    "    print(\"Eligible for voting\")\n",
    "else:\n",
    "    print(\"Age = %d\\nnot eligible for voting\"%age)"
   ]
  },
  {
   "cell_type": "code",
   "execution_count": 16,
   "id": "65cc1bbc",
   "metadata": {},
   "outputs": [
    {
     "name": "stdout",
     "output_type": "stream",
     "text": [
      "Enter a number:5\n",
      "Enter a number:5\n",
      "Two numbers are equal\n"
     ]
    }
   ],
   "source": [
    "# 5. Program to determine whether numbers are equal or not\n",
    "\n",
    "n1 = int(input(\"Enter a number:\"))\n",
    "n2 = int(input(\"Enter a number:\"))\n",
    "if(n1==n2):\n",
    "    print(\"Two numbers are equal\")\n",
    "else:\n",
    "    print(\"Two number are not equal\")"
   ]
  },
  {
   "cell_type": "code",
   "execution_count": 21,
   "id": "fd343a3d",
   "metadata": {},
   "outputs": [
    {
     "name": "stdout",
     "output_type": "stream",
     "text": [
      "Enter a number:0\n",
      "Number is even\n"
     ]
    }
   ],
   "source": [
    "# 6. Write a program to check number is even or odd\n",
    "\n",
    "n = int(input(\"Enter a number:\"))\n",
    "if (n%2 == 0):\n",
    "    print(\"Number is even\")\n",
    "elif (n%2 == 1):\n",
    "    print(\"Number is odd\")\n",
    "else:\n",
    "    print(\"Number is 0\")"
   ]
  },
  {
   "cell_type": "code",
   "execution_count": 25,
   "id": "e1ed2b79",
   "metadata": {},
   "outputs": [
    {
     "name": "stdout",
     "output_type": "stream",
     "text": [
      "Enter a number:31\n",
      "Number present in range31-40)\n"
     ]
    }
   ],
   "source": [
    "# 7. Program to enter a number and check its interval in (0-10), (11-20), (21-30), (31-40), (41-50)\n",
    "\n",
    "n = int(input(\"Enter a number:\"))\n",
    "if(0<=n<=10):\n",
    "    print(\"Number present in range(0-10)\")\n",
    "elif(11<=n<=20):\n",
    "    print(\"Number present in range(11-20)\")\n",
    "elif(21<=n<=30):\n",
    "    print(\"Number present in range(21-30)\")\n",
    "elif(31<=n<=40):\n",
    "    print(\"Number present in range(31-40)\")\n",
    "elif(41<=n<=50):\n",
    "    print(\"Number present in range(41-50)\")\n",
    "else:\n",
    "    print(\"Number Outside given ranges\")"
   ]
  },
  {
   "cell_type": "code",
   "execution_count": 29,
   "id": "5f938849",
   "metadata": {},
   "outputs": [
    {
     "name": "stdout",
     "output_type": "stream",
     "text": [
      "Enter a number:1\n",
      "Enter a number:2\n",
      "Enter a number:3\n",
      "Greatest number = 3\n"
     ]
    }
   ],
   "source": [
    "# 8. Write a program to find the greatest number among three numbers\n",
    "\n",
    "n1 = int(input(\"Enter a number:\"))\n",
    "n2 = int(input(\"Enter a number:\"))\n",
    "n3 = int(input(\"Enter a number:\"))\n",
    "if(n1>n2 and n1>=n3) or (n1>=n2 and n1>n3):\n",
    "    print(\"Greates number =\",n1)\n",
    "elif(n2>n1 and n2>=n3) or (n2>=n1 and n2>n3):\n",
    "    print(\"Greatest number =\",n2)\n",
    "elif(n3>n1 and n3>=n2) or (n3>=n1 and n3>n2):\n",
    "    print(\"Greatest number =\",n3)\n",
    "else:\n",
    "    print(\"Three numbers are equal\")"
   ]
  },
  {
   "cell_type": "code",
   "execution_count": 36,
   "id": "5a8893d4",
   "metadata": {},
   "outputs": [
    {
     "name": "stdout",
     "output_type": "stream",
     "text": [
      "Enter First Letter of Color:b\n",
      "Color starting with letter b\n",
      "black\n",
      "blue\n"
     ]
    }
   ],
   "source": [
    "# 9. Write a program to print the color name if user enter first letter of color name\n",
    "\n",
    "colors = ['black', 'silver', 'gray', 'white', 'maroon', 'red', 'purple', 'fuchsia', 'green', 'lime', 'olive', 'yellow', 'navy', 'blue', 'teal', 'aqua']\n",
    "ch = input(\"Enter First Letter of Color:\")\n",
    "print(\"Color starting with letter\",ch)\n",
    "for color in colors:\n",
    "    if ch.upper() == color[0] or ch.lower()==color[0]:\n",
    "        print(color)"
   ]
  },
  {
   "cell_type": "code",
   "execution_count": null,
   "id": "f78f8a53",
   "metadata": {},
   "outputs": [],
   "source": [
    "# Perform Arithmetic Operation usinf if-else block (1. Addition, 2. Subtraction, 3. Multiplication, 4. Division, 5. Modulus)\n",
    "\n",
    "print(\"Arithmetic Operations\\n1. Addition \\n2. Subtraction\\n3. Multiplication\\n4. Division\\n5. Modulus\")\n",
    "ch = int(input(\"Enter choice from above menu:\"))\n",
    "n1 = int(input(\"Enter a number:\"))\n",
    "n2 = int(input(\"Enter a number:\"))\n",
    "\n",
    "if(ch == 1):\n",
    "    print(\"Sum =\",n1+n2)\n",
    "elif(ch == 2):\n",
    "    print(\"Differnece =\",n1-n2)\n",
    "elif(ch == 3):\n",
    "    print(\"Product =\",n1*n2)\n",
    "elif(ch == 4):\n",
    "    print(\"Quotient =\",n1/n2)\n",
    "elif(ch == 5):\n",
    "    print(\"Remainder =\",n1%n2)"
   ]
  },
  {
   "cell_type": "code",
   "execution_count": null,
   "id": "31f7c682",
   "metadata": {},
   "outputs": [],
   "source": []
  }
 ],
 "metadata": {
  "kernelspec": {
   "display_name": "Python 3 (ipykernel)",
   "language": "python",
   "name": "python3"
  },
  "language_info": {
   "codemirror_mode": {
    "name": "ipython",
    "version": 3
   },
   "file_extension": ".py",
   "mimetype": "text/x-python",
   "name": "python",
   "nbconvert_exporter": "python",
   "pygments_lexer": "ipython3",
   "version": "3.10.4"
  }
 },
 "nbformat": 4,
 "nbformat_minor": 5
}
