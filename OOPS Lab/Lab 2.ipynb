{
 "cells": [
  {
   "cell_type": "raw",
   "id": "1a1dff7b",
   "metadata": {},
   "source": [
    "1. Program to create a list and perform various operations on it.\n",
    "Name : Akash Kumar Singh\n",
    "Registraion No: 219310279\n",
    "Batch 1"
   ]
  },
  {
   "cell_type": "code",
   "execution_count": 4,
   "id": "bd6ba6aa",
   "metadata": {},
   "outputs": [
    {
     "name": "stdout",
     "output_type": "stream",
     "text": [
      "Enter a list: 1,2,3\n"
     ]
    }
   ],
   "source": [
    "lt = list(eval(input(\"Enter a list: \")))"
   ]
  },
  {
   "cell_type": "code",
   "execution_count": 6,
   "id": "a7ee390e",
   "metadata": {},
   "outputs": [
    {
     "name": "stdout",
     "output_type": "stream",
     "text": [
      "Enter element to be appended to the list: 2\n",
      "New List: [1, 2, 3, 2]\n"
     ]
    }
   ],
   "source": [
    "val = eval(input(\"Enter element to be appended to the list: \"))\n",
    "lt.append(val)\n",
    "print(\"New List: {}\".format(lt))"
   ]
  },
  {
   "cell_type": "code",
   "execution_count": 7,
   "id": "2aed61ea",
   "metadata": {},
   "outputs": [
    {
     "name": "stdout",
     "output_type": "stream",
     "text": [
      "Enter elements to be added to the list: 4,5,6\n",
      "New List: [1, 2, 3, 2, 4, 5, 6]\n"
     ]
    }
   ],
   "source": [
    "val = list(eval(input(\"Enter elements to be added to the list: \")))\n",
    "lt.extend(val)\n",
    "print(\"New List: {}\".format(lt))"
   ]
  },
  {
   "cell_type": "code",
   "execution_count": 9,
   "id": "e9d842eb",
   "metadata": {
    "scrolled": true
   },
   "outputs": [
    {
     "name": "stdout",
     "output_type": "stream",
     "text": [
      "Enter element to be inserted and the position where to insert: 0,'Numbers'\n",
      "New List: ['Numbers', 1, 2, 3, 2, 4, 5, 6]\n"
     ]
    }
   ],
   "source": [
    "val = eval(input(\"Enter element to be inserted and the position where to insert:\"))\n",
    "lt.insert(val[0],val[1])\n",
    "print(\"New List: {}\".format(lt))"
   ]
  },
  {
   "cell_type": "code",
   "execution_count": 10,
   "id": "754b7167",
   "metadata": {},
   "outputs": [
    {
     "name": "stdout",
     "output_type": "stream",
     "text": [
      "Enter element to be removed from the list: 2\n",
      "New List: ['Numbers', 1, 3, 2, 4, 5, 6]\n"
     ]
    }
   ],
   "source": [
    "val = eval(input(\"Enter element to be removed from the list: \"))\n",
    "lt.remove(val)\n",
    "print(\"New List: {}\".format(lt))"
   ]
  },
  {
   "cell_type": "code",
   "execution_count": 12,
   "id": "73281214",
   "metadata": {},
   "outputs": [
    {
     "name": "stdout",
     "output_type": "stream",
     "text": [
      "Enter element to be removed from the list: 0\n",
      "Numbers\n",
      "New List: [1, 3, 2, 4, 5, 6]\n"
     ]
    }
   ],
   "source": [
    "val = eval(input(\"Enter element to be removed from the list: \"))\n",
    "print(lt.pop(val))\n",
    "print(\"New List: {}\".format(lt))"
   ]
  },
  {
   "cell_type": "code",
   "execution_count": 13,
   "id": "b2a318a9",
   "metadata": {},
   "outputs": [
    {
     "name": "stdout",
     "output_type": "stream",
     "text": [
      "Enter range of elements to print: 2,5\n",
      "New List: [2, 4, 5]\n"
     ]
    }
   ],
   "source": [
    "val = eval(input(\"Enter range of elements to print: \"))\n",
    "print(\"New List: {}\".format(lt[val[0]:val[1]]))"
   ]
  },
  {
   "cell_type": "code",
   "execution_count": 14,
   "id": "aa30b0d2",
   "metadata": {},
   "outputs": [
    {
     "name": "stdout",
     "output_type": "stream",
     "text": [
      "Reversed List: [6, 5, 4, 2, 3, 1]\n"
     ]
    }
   ],
   "source": [
    "lt.reverse()\n",
    "print(\"Reversed List: {}\".format(lt))"
   ]
  },
  {
   "cell_type": "code",
   "execution_count": 15,
   "id": "7a68756d",
   "metadata": {},
   "outputs": [
    {
     "name": "stdout",
     "output_type": "stream",
     "text": [
      "Length of List: 6\n"
     ]
    }
   ],
   "source": [
    "print(\"Length of List: {}\".format(len(lt)))"
   ]
  },
  {
   "cell_type": "code",
   "execution_count": 16,
   "id": "2f6e059f",
   "metadata": {},
   "outputs": [
    {
     "name": "stdout",
     "output_type": "stream",
     "text": [
      "Minimum value of List: 1\n",
      "Maximum value of List: 6\n"
     ]
    }
   ],
   "source": [
    "print(\"Minimum value of List: {}\".format(min(lt)))\n",
    "print(\"Maximum value of List: {}\".format(max(lt)))"
   ]
  },
  {
   "cell_type": "code",
   "execution_count": 17,
   "id": "e51fa732",
   "metadata": {},
   "outputs": [
    {
     "name": "stdout",
     "output_type": "stream",
     "text": [
      "Enter element to be searched in the list: 6\n",
      "Occurence of 6 : 1\n"
     ]
    }
   ],
   "source": [
    "val = eval(input(\"Enter element to be searched in the list: \"))\n",
    "print(\"Occurence of {} : {}\".format(val,lt.count(val)))"
   ]
  },
  {
   "cell_type": "code",
   "execution_count": 18,
   "id": "ba41bc0b",
   "metadata": {},
   "outputs": [
    {
     "name": "stdout",
     "output_type": "stream",
     "text": [
      "Enter List to be concatenated to the list: 7,8\n",
      "New List: [6, 5, 4, 2, 3, 1, 7, 8]\n"
     ]
    }
   ],
   "source": [
    "val = list(eval(input(\"Enter List to be concatenated to the list: \")))\n",
    "print(\"New List: {}\".format(lt+val))"
   ]
  },
  {
   "cell_type": "code",
   "execution_count": 19,
   "id": "96dbdf71",
   "metadata": {},
   "outputs": [
    {
     "name": "stdout",
     "output_type": "stream",
     "text": [
      "Enter number of times to multiply the list: 2\n",
      "New List: [6, 5, 4, 2, 3, 1, 6, 5, 4, 2, 3, 1]\n"
     ]
    }
   ],
   "source": [
    "val = eval(input(\"Enter number of times to multiply the list: \"))\n",
    "print(\"New List: {}\".format(lt*val))"
   ]
  },
  {
   "cell_type": "code",
   "execution_count": 20,
   "id": "3b90bd7f",
   "metadata": {},
   "outputs": [
    {
     "name": "stdout",
     "output_type": "stream",
     "text": [
      "Enter element to be searched in the list: 5\n",
      "5 occurs in the list at 1 position\n"
     ]
    }
   ],
   "source": [
    "val = eval(input(\"Enter element to be searched in the list: \"))\n",
    "print(\"{} occurs in the list at {} position\".format(val,lt.index(val)))"
   ]
  },
  {
   "cell_type": "code",
   "execution_count": 21,
   "id": "0ead1909",
   "metadata": {},
   "outputs": [
    {
     "name": "stdout",
     "output_type": "stream",
     "text": [
      "Sorted List: [1, 2, 3, 4, 5, 6]\n"
     ]
    }
   ],
   "source": [
    "lt.sort()\n",
    "print(\"Sorted List: {}\".format(lt))"
   ]
  },
  {
   "cell_type": "code",
   "execution_count": 22,
   "id": "0f1173a8",
   "metadata": {},
   "outputs": [
    {
     "name": "stdout",
     "output_type": "stream",
     "text": [
      "Sorted List: [6, 5, 4, 3, 2, 1]\n"
     ]
    }
   ],
   "source": [
    "print(\"Sorted List: {}\".format(sorted(lt,reverse = True)))"
   ]
  },
  {
   "cell_type": "code",
   "execution_count": 23,
   "id": "9950173d",
   "metadata": {},
   "outputs": [
    {
     "name": "stdout",
     "output_type": "stream",
     "text": [
      "Cleared List: []\n"
     ]
    }
   ],
   "source": [
    "lt.clear()\n",
    "print(\"Cleared List: {}\".format(lt))"
   ]
  },
  {
   "cell_type": "code",
   "execution_count": 30,
   "id": "7c62d3ae",
   "metadata": {},
   "outputs": [
    {
     "name": "stdout",
     "output_type": "stream",
     "text": [
      "[0, 2, 4, 6, 8, 10]\n"
     ]
    }
   ],
   "source": [
    "# List Comprehension for Even Nos\n",
    "list = [i for i in range(11) if i % 2 == 0]\n",
    "print(list)"
   ]
  },
  {
   "cell_type": "raw",
   "id": "17bacaef",
   "metadata": {},
   "source": []
  },
  {
   "cell_type": "raw",
   "id": "c6e565e6",
   "metadata": {},
   "source": [
    "2. Program to Create Set and Perform Various Operations on the Set\n",
    "Name : Akash Kumar Singh\n",
    "Registraion No: 219310279"
   ]
  },
  {
   "cell_type": "code",
   "execution_count": 24,
   "id": "88284f2f",
   "metadata": {},
   "outputs": [
    {
     "name": "stdout",
     "output_type": "stream",
     "text": [
      "Enter a set: 1,2,3,4\n",
      "Enter another set: 4,5,6\n"
     ]
    }
   ],
   "source": [
    "st = set(eval(input(\"Enter a set: \")))\n",
    "st1 = set(eval(input(\"Enter another set: \")))"
   ]
  },
  {
   "cell_type": "code",
   "execution_count": 25,
   "id": "71b6d0a2",
   "metadata": {},
   "outputs": [
    {
     "name": "stdout",
     "output_type": "stream",
     "text": [
      "Enter element to be appended to the set: 7\n",
      "New Set: {1, 2, 3, 4, 7}\n"
     ]
    }
   ],
   "source": [
    "val = eval(input(\"Enter element to be appended to the set: \"))\n",
    "st.add(val)\n",
    "print(\"New Set: {}\".format(st))"
   ]
  },
  {
   "cell_type": "code",
   "execution_count": 26,
   "id": "2f9a8f76",
   "metadata": {},
   "outputs": [
    {
     "name": "stdout",
     "output_type": "stream",
     "text": [
      "Inersection of Two Sets: {4}\n"
     ]
    }
   ],
   "source": [
    "print(\"Inersection of Two Sets: {}\".format(st.intersection(st1)))"
   ]
  },
  {
   "cell_type": "code",
   "execution_count": 27,
   "id": "0b7e377f",
   "metadata": {},
   "outputs": [
    {
     "name": "stdout",
     "output_type": "stream",
     "text": [
      "Union of Two Sets: {1, 2, 3, 4, 5, 6, 7}\n"
     ]
    }
   ],
   "source": [
    "print(\"Union of Two Sets: {}\".format(st.union(st1)))"
   ]
  },
  {
   "cell_type": "code",
   "execution_count": 28,
   "id": "e2be51bc",
   "metadata": {},
   "outputs": [
    {
     "name": "stdout",
     "output_type": "stream",
     "text": [
      "Difference of Two Sets: {1, 2, 3, 7}\n"
     ]
    }
   ],
   "source": [
    "print(\"Difference of Two Sets: {}\".format(st.difference(st1))) "
   ]
  },
  {
   "cell_type": "code",
   "execution_count": 29,
   "id": "1e33a9ce",
   "metadata": {
    "scrolled": true
   },
   "outputs": [
    {
     "name": "stdout",
     "output_type": "stream",
     "text": [
      "Symmetric Difference of Two Sets: {1, 2, 3, 5, 6, 7}\n"
     ]
    }
   ],
   "source": [
    "print(\"Symmetric Difference of Two Sets: {}\".format(st.symmetric_difference(st1)))\n",
    "#  or use ^ operator"
   ]
  }
 ],
 "metadata": {
  "kernelspec": {
   "display_name": "Python 3 (ipykernel)",
   "language": "python",
   "name": "python3"
  },
  "language_info": {
   "codemirror_mode": {
    "name": "ipython",
    "version": 3
   },
   "file_extension": ".py",
   "mimetype": "text/x-python",
   "name": "python",
   "nbconvert_exporter": "python",
   "pygments_lexer": "ipython3",
   "version": "3.10.6"
  }
 },
 "nbformat": 4,
 "nbformat_minor": 5
}
