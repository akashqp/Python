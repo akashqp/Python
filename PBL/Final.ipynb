{
 "cells": [
  {
   "cell_type": "code",
   "execution_count": 2,
   "id": "cc4158b4",
   "metadata": {},
   "outputs": [],
   "source": [
    "import gensim.downloader as api\n",
    "import fasttext\n",
    "from gensim.models import Word2Vec\n",
    "from gensim.test.utils import datapath\n",
    "import numpy as np\n",
    "from tensorflow.keras.preprocessing.text import Tokenizer"
   ]
  },
  {
   "cell_type": "code",
   "execution_count": 5,
   "id": "2e50fd37",
   "metadata": {},
   "outputs": [],
   "source": [
    "w2v_model = api.load('word2vec-google-news-300')"
   ]
  },
  {
   "cell_type": "code",
   "execution_count": 4,
   "id": "cf048d7c",
   "metadata": {},
   "outputs": [],
   "source": [
    "cap_path = datapath(\"/home/akash/Programs/Python/PBL/wiki.en.bin\")\n",
    "ft_model = fasttext.load_model(cap_path)\n",
    "#wv = gensim.models.fasttext.load_facebook_vectors(cap_path)"
   ]
  },
  {
   "cell_type": "code",
   "execution_count": 1,
   "id": "cc8c666f",
   "metadata": {
    "scrolled": true
   },
   "outputs": [],
   "source": [
    "#ft_model.get_nearest_neighbors(\"twitter\", k=10)"
   ]
  },
  {
   "cell_type": "code",
   "execution_count": 2,
   "id": "71fcb633",
   "metadata": {},
   "outputs": [],
   "source": [
    "test_data = [\"Twitter is muh beter than Facbook\"]"
   ]
  },
  {
   "cell_type": "code",
   "execution_count": 34,
   "id": "bb8ab1b2",
   "metadata": {},
   "outputs": [],
   "source": [
    "embedding_dimension=600\n",
    "num_words=6\n",
    "vocabulary_size = 1\n",
    "embedding_matrix = np.zeros((vocabulary_size,embedding_dimension))"
   ]
  },
  {
   "cell_type": "code",
   "execution_count": 35,
   "id": "64b54fb4",
   "metadata": {},
   "outputs": [],
   "source": [
    "tokenizer = Tokenizer(num_words, char_level = False, filters='!\"#$%&()*+-,./:;<=>?@[\\\\]^_{|}~\\t\\n', lower=True, split=' ', oov_token='oov')\n",
    "tokenizer.fit_on_texts(test_data)\n",
    "word_index=tokenizer.word_index"
   ]
  },
  {
   "cell_type": "code",
   "execution_count": 36,
   "id": "7406cbc4",
   "metadata": {},
   "outputs": [
    {
     "data": {
      "text/plain": [
       "{'oov': 1,\n",
       " 'twitter': 2,\n",
       " 'is': 3,\n",
       " 'muh': 4,\n",
       " 'beter': 5,\n",
       " 'than': 6,\n",
       " 'facbook': 7}"
      ]
     },
     "execution_count": 36,
     "metadata": {},
     "output_type": "execute_result"
    }
   ],
   "source": [
    "word_index"
   ]
  },
  {
   "cell_type": "code",
   "execution_count": 38,
   "id": "c87bd398",
   "metadata": {},
   "outputs": [
    {
     "ename": "AttributeError",
     "evalue": "'_FastText' object has no attribute 'get_nearest_neighbour'",
     "output_type": "error",
     "traceback": [
      "\u001b[0;31m---------------------------------------------------------------------------\u001b[0m",
      "\u001b[0;31mKeyError\u001b[0m                                  Traceback (most recent call last)",
      "Input \u001b[0;32mIn [38]\u001b[0m, in \u001b[0;36m<cell line: 1>\u001b[0;34m()\u001b[0m\n\u001b[1;32m      3\u001b[0m \u001b[38;5;28;01mtry\u001b[39;00m:\n\u001b[0;32m----> 4\u001b[0m     embedding_vector1 \u001b[38;5;241m=\u001b[39m \u001b[43mw2v_model\u001b[49m\u001b[43m[\u001b[49m\u001b[43mword\u001b[49m\u001b[43m]\u001b[49m\n\u001b[1;32m      5\u001b[0m \u001b[38;5;28;01mexcept\u001b[39;00m \u001b[38;5;167;01mKeyError\u001b[39;00m:\n",
      "File \u001b[0;32m~/.local/lib/python3.10/site-packages/gensim/models/keyedvectors.py:404\u001b[0m, in \u001b[0;36mKeyedVectors.__getitem__\u001b[0;34m(self, key_or_keys)\u001b[0m\n\u001b[1;32m    403\u001b[0m \u001b[38;5;28;01mif\u001b[39;00m \u001b[38;5;28misinstance\u001b[39m(key_or_keys, _KEY_TYPES):\n\u001b[0;32m--> 404\u001b[0m     \u001b[38;5;28;01mreturn\u001b[39;00m \u001b[38;5;28;43mself\u001b[39;49m\u001b[38;5;241;43m.\u001b[39;49m\u001b[43mget_vector\u001b[49m\u001b[43m(\u001b[49m\u001b[43mkey_or_keys\u001b[49m\u001b[43m)\u001b[49m\n\u001b[1;32m    406\u001b[0m \u001b[38;5;28;01mreturn\u001b[39;00m vstack([\u001b[38;5;28mself\u001b[39m\u001b[38;5;241m.\u001b[39mget_vector(key) \u001b[38;5;28;01mfor\u001b[39;00m key \u001b[38;5;129;01min\u001b[39;00m key_or_keys])\n",
      "File \u001b[0;32m~/.local/lib/python3.10/site-packages/gensim/models/keyedvectors.py:447\u001b[0m, in \u001b[0;36mKeyedVectors.get_vector\u001b[0;34m(self, key, norm)\u001b[0m\n\u001b[1;32m    424\u001b[0m \u001b[38;5;124;03m\"\"\"Get the key's vector, as a 1D numpy array.\u001b[39;00m\n\u001b[1;32m    425\u001b[0m \n\u001b[1;32m    426\u001b[0m \u001b[38;5;124;03mParameters\u001b[39;00m\n\u001b[0;32m   (...)\u001b[0m\n\u001b[1;32m    445\u001b[0m \n\u001b[1;32m    446\u001b[0m \u001b[38;5;124;03m\"\"\"\u001b[39;00m\n\u001b[0;32m--> 447\u001b[0m index \u001b[38;5;241m=\u001b[39m \u001b[38;5;28;43mself\u001b[39;49m\u001b[38;5;241;43m.\u001b[39;49m\u001b[43mget_index\u001b[49m\u001b[43m(\u001b[49m\u001b[43mkey\u001b[49m\u001b[43m)\u001b[49m\n\u001b[1;32m    448\u001b[0m \u001b[38;5;28;01mif\u001b[39;00m norm:\n",
      "File \u001b[0;32m~/.local/lib/python3.10/site-packages/gensim/models/keyedvectors.py:421\u001b[0m, in \u001b[0;36mKeyedVectors.get_index\u001b[0;34m(self, key, default)\u001b[0m\n\u001b[1;32m    420\u001b[0m \u001b[38;5;28;01melse\u001b[39;00m:\n\u001b[0;32m--> 421\u001b[0m     \u001b[38;5;28;01mraise\u001b[39;00m \u001b[38;5;167;01mKeyError\u001b[39;00m(\u001b[38;5;124mf\u001b[39m\u001b[38;5;124m\"\u001b[39m\u001b[38;5;124mKey \u001b[39m\u001b[38;5;124m'\u001b[39m\u001b[38;5;132;01m{\u001b[39;00mkey\u001b[38;5;132;01m}\u001b[39;00m\u001b[38;5;124m'\u001b[39m\u001b[38;5;124m not present\u001b[39m\u001b[38;5;124m\"\u001b[39m)\n",
      "\u001b[0;31mKeyError\u001b[0m: \"Key 'oov' not present\"",
      "\nDuring handling of the above exception, another exception occurred:\n",
      "\u001b[0;31mAttributeError\u001b[0m                            Traceback (most recent call last)",
      "Input \u001b[0;32mIn [38]\u001b[0m, in \u001b[0;36m<cell line: 1>\u001b[0;34m()\u001b[0m\n\u001b[1;32m      4\u001b[0m     embedding_vector1 \u001b[38;5;241m=\u001b[39m w2v_model[word]\n\u001b[1;32m      5\u001b[0m \u001b[38;5;28;01mexcept\u001b[39;00m \u001b[38;5;167;01mKeyError\u001b[39;00m:\n\u001b[0;32m----> 6\u001b[0m     sims \u001b[38;5;241m=\u001b[39m \u001b[43mft_model\u001b[49m\u001b[38;5;241;43m.\u001b[39;49m\u001b[43mget_nearest_neighbour\u001b[49m(word, k\u001b[38;5;241m=\u001b[39m\u001b[38;5;241m10\u001b[39m)\n\u001b[1;32m      8\u001b[0m     \u001b[38;5;28;01mfor\u001b[39;00m embed, sim \u001b[38;5;129;01min\u001b[39;00m sims:\n\u001b[1;32m      9\u001b[0m         \u001b[38;5;28;01mif\u001b[39;00m sim \u001b[38;5;129;01min\u001b[39;00m w2v_model\u001b[38;5;241m.\u001b[39mkey_to_index:\n",
      "\u001b[0;31mAttributeError\u001b[0m: '_FastText' object has no attribute 'get_nearest_neighbour'"
     ]
    }
   ],
   "source": [
    "for word,i in word_index.items():\n",
    "    embedding_vector2 = ft_model[word]\n",
    "    try:\n",
    "        embedding_vector1 = w2v_model[word]\n",
    "    except KeyError:\n",
    "        sims = ft_model.get_nearest_neighbors(word, k=10)\n",
    "        \n",
    "        for embed, sim in sims:\n",
    "            if sim in w2v_model.key_to_index:\n",
    "                flag = 1\n",
    "                embedding_vector1 = w2v_model[sim]\n",
    "        if flag==0:\n",
    "            embedding_vector1 = np.random.noraml(0,np.sqrt(0.25), embedding_dimension)\n",
    "        \n",
    "        concatenated_embedding_matrix = np.hstack(embedding_vector1, embedding_vector2)\n",
    "        embedding_matrix = np.append(embedding_matrix, concatenated_embedding_matrix)"
   ]
  },
  {
   "cell_type": "code",
   "execution_count": null,
   "id": "6ef407df",
   "metadata": {},
   "outputs": [],
   "source": [
    "\n",
    "       "
   ]
  }
 ],
 "metadata": {
  "kernelspec": {
   "display_name": "Python 3 (ipykernel)",
   "language": "python",
   "name": "python3"
  },
  "language_info": {
   "codemirror_mode": {
    "name": "ipython",
    "version": 3
   },
   "file_extension": ".py",
   "mimetype": "text/x-python",
   "name": "python",
   "nbconvert_exporter": "python",
   "pygments_lexer": "ipython3",
   "version": "3.10.4"
  }
 },
 "nbformat": 4,
 "nbformat_minor": 5
}
