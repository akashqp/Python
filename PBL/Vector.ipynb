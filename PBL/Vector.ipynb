{
 "cells": [
  {
   "cell_type": "code",
   "execution_count": 29,
   "id": "911f6544",
   "metadata": {},
   "outputs": [],
   "source": [
    "from gensim.models import Word2Vec\n",
    "from gensim.test.utils import common_texts"
   ]
  },
  {
   "cell_type": "code",
   "execution_count": 30,
   "id": "ec0b896a",
   "metadata": {},
   "outputs": [],
   "source": [
    "# glove_vectors = gensim.downloader.load('glove-twitter-25')\n",
    "# model.most_similar('twitter')"
   ]
  },
  {
   "cell_type": "code",
   "execution_count": 31,
   "id": "51050a38",
   "metadata": {},
   "outputs": [],
   "source": [
    "sentences = common_texts\n",
    "model = Word2Vec(sentences, vector_size = 100, window = 5, min_count = 1, workers = 8)\n",
    "model.build_vocab(sentences)\n",
    "model.save(\"word2vec.model\")"
   ]
  },
  {
   "cell_type": "code",
   "execution_count": 32,
   "id": "5062d870",
   "metadata": {},
   "outputs": [
    {
     "data": {
      "text/plain": [
       "(19, 145)"
      ]
     },
     "execution_count": 32,
     "metadata": {},
     "output_type": "execute_result"
    }
   ],
   "source": [
    "model = Word2Vec.load(\"word2vec.model\")\n",
    "model.train(sentences, total_examples = model.corpus_count, epochs = model.epochs)"
   ]
  },
  {
   "cell_type": "code",
   "execution_count": 33,
   "id": "8ea2e838",
   "metadata": {},
   "outputs": [
    {
     "data": {
      "text/plain": [
       "[('eps', 0.1991206258535385),\n",
       " ('minors', 0.17272792756557465),\n",
       " ('user', 0.17019499838352203),\n",
       " ('response', 0.14596118032932281),\n",
       " ('system', 0.06408977508544922),\n",
       " ('time', -0.002744009019806981),\n",
       " ('survey', -0.013535077683627605),\n",
       " ('interface', -0.023654578253626823),\n",
       " ('trees', -0.032843153923749924),\n",
       " ('human', -0.05234673619270325)]"
      ]
     },
     "execution_count": 33,
     "metadata": {},
     "output_type": "execute_result"
    }
   ],
   "source": [
    "model.wv.most_similar('computer', topn = 10)"
   ]
  },
  {
   "cell_type": "code",
   "execution_count": 23,
   "id": "44c2819f",
   "metadata": {},
   "outputs": [
    {
     "data": {
      "text/plain": [
       "5"
      ]
     },
     "execution_count": 23,
     "metadata": {},
     "output_type": "execute_result"
    }
   ],
   "source": [
    "model.epochs"
   ]
  },
  {
   "cell_type": "code",
   "execution_count": 27,
   "id": "7d8bb5e9",
   "metadata": {},
   "outputs": [],
   "source": [
    "bigram_transformer = Phrases(common_texts)\n",
    "model = Word2Vec(bigram_transformer[common_texts], min_count=1)"
   ]
  },
  {
   "cell_type": "code",
   "execution_count": 28,
   "id": "a42b26b2",
   "metadata": {},
   "outputs": [
    {
     "ename": "AttributeError",
     "evalue": "'Word2Vec' object has no attribute 'most_similar'",
     "output_type": "error",
     "traceback": [
      "\u001b[0;31m---------------------------------------------------------------------------\u001b[0m",
      "\u001b[0;31mAttributeError\u001b[0m                            Traceback (most recent call last)",
      "Input \u001b[0;32mIn [28]\u001b[0m, in \u001b[0;36m<cell line: 1>\u001b[0;34m()\u001b[0m\n\u001b[0;32m----> 1\u001b[0m \u001b[43mmodel\u001b[49m\u001b[38;5;241;43m.\u001b[39;49m\u001b[43mmost_similar\u001b[49m(\u001b[38;5;124m\"\u001b[39m\u001b[38;5;124mTwitter\u001b[39m\u001b[38;5;124m\"\u001b[39m)\n",
      "\u001b[0;31mAttributeError\u001b[0m: 'Word2Vec' object has no attribute 'most_similar'"
     ]
    }
   ],
   "source": [
    "model.most_similar(\"Twitter\")"
   ]
  },
  {
   "cell_type": "code",
   "execution_count": 23,
   "id": "975239c4",
   "metadata": {},
   "outputs": [
    {
     "data": {
      "text/plain": [
       "[['human', 'interface', 'computer'],\n",
       " ['survey', 'user', 'computer', 'system', 'response', 'time'],\n",
       " ['eps', 'user', 'interface', 'system'],\n",
       " ['system', 'human', 'system', 'eps'],\n",
       " ['user', 'response', 'time'],\n",
       " ['trees'],\n",
       " ['graph', 'trees'],\n",
       " ['graph', 'minors', 'trees'],\n",
       " ['graph', 'minors', 'survey']]"
      ]
     },
     "execution_count": 23,
     "metadata": {},
     "output_type": "execute_result"
    }
   ],
   "source": [
    "common_texts"
   ]
  },
  {
   "cell_type": "code",
   "execution_count": null,
   "id": "113ff816",
   "metadata": {},
   "outputs": [],
   "source": []
  }
 ],
 "metadata": {
  "kernelspec": {
   "display_name": "Python 3 (ipykernel)",
   "language": "python",
   "name": "python3"
  },
  "language_info": {
   "codemirror_mode": {
    "name": "ipython",
    "version": 3
   },
   "file_extension": ".py",
   "mimetype": "text/x-python",
   "name": "python",
   "nbconvert_exporter": "python",
   "pygments_lexer": "ipython3",
   "version": "3.10.4"
  }
 },
 "nbformat": 4,
 "nbformat_minor": 5
}
