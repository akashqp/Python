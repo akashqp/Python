{
 "cells": [
  {
   "cell_type": "code",
   "execution_count": 9,
   "id": "911f6544",
   "metadata": {},
   "outputs": [],
   "source": [
    "from gensim.models import Word2Vec\n",
    "from gensim.test.utils import common_texts\n",
    "import pandas as pd"
   ]
  },
  {
   "cell_type": "code",
   "execution_count": 7,
   "id": "2194ac9c",
   "metadata": {},
   "outputs": [],
   "source": [
    "df = pd.read_json(\"https://data.smcgov.org/resource/mb6a-xn89.json\")"
   ]
  },
  {
   "cell_type": "code",
   "execution_count": null,
   "id": "59ae6e82",
   "metadata": {},
   "outputs": [],
   "source": [
    "df = pd.read_json('words_dictionary.json')"
   ]
  },
  {
   "cell_type": "code",
   "execution_count": 31,
   "id": "51050a38",
   "metadata": {},
   "outputs": [],
   "source": [
    "sentences = common_texts\n",
    "model = Word2Vec(sentences, vector_size = 100, window = 5, min_count = 1, workers = 8)\n",
    "model.build_vocab(sentences)\n",
    "model.save(\"word2vec.model\")"
   ]
  },
  {
   "cell_type": "code",
   "execution_count": 32,
   "id": "876c4583",
   "metadata": {},
   "outputs": [
    {
     "data": {
      "text/plain": [
       "(19, 145)"
      ]
     },
     "execution_count": 32,
     "metadata": {},
     "output_type": "execute_result"
    }
   ],
   "source": [
    "model = Word2Vec.load(\"word2vec.model\")\n",
    "model.train(sentences, total_examples = model.corpus_count, epochs = model.epochs)"
   ]
  },
  {
   "cell_type": "code",
   "execution_count": 33,
   "id": "f65d155a",
   "metadata": {},
   "outputs": [
    {
     "data": {
      "text/plain": [
       "[('eps', 0.1991206258535385),\n",
       " ('minors', 0.17272792756557465),\n",
       " ('user', 0.17019499838352203),\n",
       " ('response', 0.14596118032932281),\n",
       " ('system', 0.06408977508544922),\n",
       " ('time', -0.002744009019806981),\n",
       " ('survey', -0.013535077683627605),\n",
       " ('interface', -0.023654578253626823),\n",
       " ('trees', -0.032843153923749924),\n",
       " ('human', -0.05234673619270325)]"
      ]
     },
     "execution_count": 33,
     "metadata": {},
     "output_type": "execute_result"
    }
   ],
   "source": [
    "model.wv.most_similar('computer', topn = 10)"
   ]
  }
 ],
 "metadata": {
  "kernelspec": {
   "display_name": "Python 3 (ipykernel)",
   "language": "python",
   "name": "python3"
  },
  "language_info": {
   "codemirror_mode": {
    "name": "ipython",
    "version": 3
   },
   "file_extension": ".py",
   "mimetype": "text/x-python",
   "name": "python",
   "nbconvert_exporter": "python",
   "pygments_lexer": "ipython3",
   "version": "3.10.4"
  }
 },
 "nbformat": 4,
 "nbformat_minor": 5
}
