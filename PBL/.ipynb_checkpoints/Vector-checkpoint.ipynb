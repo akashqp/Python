{
 "cells": [
  {
   "cell_type": "code",
   "execution_count": 54,
   "id": "911f6544",
   "metadata": {},
   "outputs": [],
   "source": [
    "from gensim.models import Word2Vec\n",
    "from gensim.test.utils import common_texts\n",
    "import gensim.downloader\n"
   ]
  },
  {
   "cell_type": "code",
   "execution_count": 49,
   "id": "ec0b896a",
   "metadata": {},
   "outputs": [],
   "source": [
    "# glove_vectors = gensim.downloader.load('glove-twitter-25')\n",
    "# model.most_similar('twitter')"
   ]
  },
  {
   "cell_type": "code",
   "execution_count": 52,
   "id": "51050a38",
   "metadata": {},
   "outputs": [],
   "source": [
    "sentences = common_texts\n",
    "model = Word2Vec(sentences, vector_size = 100, window = 5, min_count = 1, workers = 4)"
   ]
  },
  {
   "cell_type": "code",
   "execution_count": null,
   "id": "2c72fd8f",
   "metadata": {},
   "outputs": [],
   "source": [
    "model.build_vocab()"
   ]
  },
  {
   "cell_type": "code",
   "execution_count": 53,
   "id": "44c2819f",
   "metadata": {},
   "outputs": [
    {
     "data": {
      "text/plain": [
       "5"
      ]
     },
     "execution_count": 53,
     "metadata": {},
     "output_type": "execute_result"
    }
   ],
   "source": [
    "model.epochs"
   ]
  },
  {
   "cell_type": "code",
   "execution_count": null,
   "id": "59e9ea9a",
   "metadata": {},
   "outputs": [],
   "source": []
  }
 ],
 "metadata": {
  "kernelspec": {
   "display_name": "Python 3 (ipykernel)",
   "language": "python",
   "name": "python3"
  },
  "language_info": {
   "codemirror_mode": {
    "name": "ipython",
    "version": 3
   },
   "file_extension": ".py",
   "mimetype": "text/x-python",
   "name": "python",
   "nbconvert_exporter": "python",
   "pygments_lexer": "ipython3",
   "version": "3.10.4"
  }
 },
 "nbformat": 4,
 "nbformat_minor": 5
}
